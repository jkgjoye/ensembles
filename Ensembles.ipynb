{
 "cells": [
  {
   "cell_type": "markdown",
   "metadata": {},
   "source": [
    "\n",
    "Autor: Juan Carlos González (jgonzalezjo)\n",
    "\n",
    "# Ensembles: Combinación de clasificadores\n",
    "\n",
    "En esta práctica veremos diferentes métodos de combinación de clasificadores aplicados sobre el conjunto de datos [EMNIST](https://www.nist.gov/itl/iad/image-group/emnist-dataset).\n",
    "\n",
    "<ol start=\"0\">\n",
    "  <li>Carga de datos</li>\n",
    "  <li>Combinación paralela de clasificadores base similares\n",
    "  <br>1.1 Bagging\n",
    "  <br>. 1.1.1 Random Forest simple\n",
    "  <br>. 1.1.2 Out-of-bag\n",
    "  <br>. 1.1.3 Probabilidad por clase\n",
    "  <br>. 1.1.4 Importancia de las variables\n",
    "  <br>. 1.1.5 Número de clasificadores\n",
    "  <br>. 1.1.6 Volumen de datos\n",
    "  <br>1.2 Boosting</li>\n",
    "  <li>Combinación secuencial de clasificadores base diferentes\n",
    "  <br>2.1 Stacking\n",
    "  <br>2.2 Cascading\n",
    "  <br>. 2.2.1 Cascading simple\n",
    "  <br>. 2.2.2 Cascading con variables adicionales</li>\n",
    "</ol>\n",
    "\n",
    "**Importante: Cada uno de los ejercicios puede suponer varios minutos de ejecución, por lo que la entrega debe hacerse en formato notebook y en formato html donde se vea el código y los resultados y comentarios de cada ejercicio. Para exportar el notebook a html puede hacerse desde el menú File $\\to$ Download as $\\to$ HTML.**"
   ]
  },
  {
   "cell_type": "code",
   "execution_count": 1,
   "metadata": {
    "collapsed": true
   },
   "outputs": [],
   "source": [
    "# 0. Carga de datos"
   ]
  },
  {
   "cell_type": "markdown",
   "metadata": {},
   "source": [
    "Usaremos los mismos datos que en la práctica anterior, PEC 3, que son las 5.000 imágenes EMMNIST, correspondientes a 5 carácteres distintos: \"A\", \"B\", \"C\", \"D\" y \"E.\n",
    "\n",
    "El siguiente código cargará las imágenes:"
   ]
  },
  {
   "cell_type": "code",
   "execution_count": 1,
   "metadata": {
    "scrolled": true
   },
   "outputs": [
    {
     "name": "stdout",
     "output_type": "stream",
     "text": [
      "Dimensiones del vector de imágenes: (5000, 784)\n",
      "Dimensiones del vector de etiquetas: (5000,)\n"
     ]
    }
   ],
   "source": [
    "import pickle\n",
    "import numpy as np\n",
    "\n",
    "with open(\"data.pickle\", \"rb\") as f:\n",
    "    data = pickle.load(f)\n",
    "    \n",
    "images = data[\"images\"]\n",
    "labels = data[\"labels\"]\n",
    "n_classes = 5\n",
    "labels_text = [\"A\", \"B\", \"C\", \"D\", \"E\"]\n",
    "\n",
    "print(\"Dimensiones del vector de imágenes: {}\".format(images.shape))\n",
    "print(\"Dimensiones del vector de etiquetas: {}\".format(labels.shape))"
   ]
  },
  {
   "cell_type": "markdown",
   "metadata": {},
   "source": [
    "Con el siguiente código podemos ver un ejemplo de imagen de cada una de las clases. Para ello reajustamos el vector de 784 dimensiones que representa cada imagen en una matriz de tamaño 28x28 y la transponemos para mostrarla:"
   ]
  },
  {
   "cell_type": "code",
   "execution_count": 2,
   "metadata": {},
   "outputs": [
    {
     "data": {
      "image/png": "[encoded data removed]",
      "text/plain": [
       "<matplotlib.figure.Figure at 0x10f466f60>"
      ]
     },
     "metadata": {},
     "output_type": "display_data"
    }
   ],
   "source": [
    "import matplotlib.pyplot as plt\n",
    "%matplotlib inline\n",
    "\n",
    "fig, ax = plt.subplots(1, n_classes, figsize=(10,10))\n",
    "\n",
    "idxs = [np.where(labels == i)[0] for i in range(n_classes)]\n",
    "\n",
    "for i in range(n_classes):\n",
    "    k = np.random.choice(idxs[i])\n",
    "    ax[i].imshow(images[k].reshape(28, 28).transpose(), cmap=\"gray\")\n",
    "    ax[i].set_title(\"{}\".format(labels_text[i]))"
   ]
  },
  {
   "cell_type": "markdown",
   "metadata": {},
   "source": [
    "Reducimos dimensionalidad usando PCA y dividimos los datos, tal como en el PEC3, en 4000 imágenes entrenamiento y 1000 imágenes para test."
   ]
  },
  {
   "cell_type": "code",
   "execution_count": 3,
   "metadata": {},
   "outputs": [
    {
     "name": "stdout",
     "output_type": "stream",
     "text": [
      "Número de imágenes para entrenar: 4000\n",
      "Número de imágenes para test: 1000\n",
      "Proporción de las etiquetas en el conjunto original: [ 0.2  0.2  0.2  0.2  0.2]\n",
      "Proporción de las etiquetas en el conjunto de entrenamiento: [ 0.2  0.2  0.2  0.2  0.2]\n",
      "Proporción de las etiquetas en el conjunto de test: [ 0.2  0.2  0.2  0.2  0.2]\n"
     ]
    }
   ],
   "source": [
    "from sklearn.model_selection import train_test_split\n",
    "from sklearn.decomposition import PCA\n",
    "\n",
    "X_train, X_test, y_train, y_test = train_test_split(images, labels, test_size=0.2, random_state=2017, stratify=labels)\n",
    "\n",
    "pca = PCA(n_components=100, random_state=2017)\n",
    "pca_fit = pca.fit(X_train)\n",
    "X_train_pca = pca_fit.transform(X_train)\n",
    "X_test_pca = pca_fit.transform(X_test)\n",
    "\n",
    "def proporcion_etiquetas(y):\n",
    "    _, count = np.unique(y, return_counts=True)\n",
    "    return np.true_divide(count, y.shape[0])\n",
    "    \n",
    "\n",
    "print(\"Número de imágenes para entrenar: {}\".format(X_train_pca.shape[0]))\n",
    "print(\"Número de imágenes para test: {}\".format(X_test_pca.shape[0]))\n",
    "\n",
    "print(\"Proporción de las etiquetas en el conjunto original: {}\".format(proporcion_etiquetas(labels)))\n",
    "print(\"Proporción de las etiquetas en el conjunto de entrenamiento: {}\".format(proporcion_etiquetas(y_train)))\n",
    "print(\"Proporción de las etiquetas en el conjunto de test: {}\".format(proporcion_etiquetas(y_test)))"
   ]
  },
  {
   "cell_type": "markdown",
   "metadata": {},
   "source": [
    "# 1. Combinación paralela de clasificadores base similares"
   ]
  },
  {
   "cell_type": "markdown",
   "metadata": {},
   "source": [
    "## 1.1 Bagging"
   ]
  },
  {
   "cell_type": "markdown",
   "metadata": {},
   "source": [
    "### 1.1.1 Random forest simple (1 punto)"
   ]
  },
  {
   "cell_type": "markdown",
   "metadata": {},
   "source": [
    "La idea básica del *bagging* es utilizar el conjunto de entrenamiento original para generar centenares o miles de conjuntos similares usando muestreo con reemplazo. En este concepto está basado el algoritmo *Random Forest*, la combinación de varios árboles de decisión, cada uno entrenado con una realización diferente de los datos. La decisión final del clasificador combinado (la *Random Forest*) se toma por mayoría, dando el mismo peso a todas las decisiones parciales tomadas por los clasificadores base (los árboles)."
   ]
  },
  {
   "cell_type": "markdown",
   "metadata": {},
   "source": [
    "<div style=\"background-color: #EDF7FF; border-color: #7C9DBF; border-left: 5px solid #7C9DBF; padding: 0.5em;\">\n",
    "<strong>Implementación:</strong> Usando los conjuntos *X_train_pca* e *y_train_pca*, entrenar un modelo *Random Forest* con 100 árboles de decisión y estimar la precisión del modelo con una estrategia de *cross-validation* en los mismos conjuntos.\n",
    "<hr>\n",
    "Sugerencia: usar los módulos *RandomForestClassifier* y *cross_val_score* de sklearn. Para aprender más sobre *cross validation* y sobre como usar estes módulos, os recomendamos los siguientes enlaces:<br>\n",
    "http://scikit-learn.org/stable/modules/generated/sklearn.ensemble.RandomForestClassifier.html<br>\n",
    "http://scikit-learn.org/stable/modules/cross_validation.html<br>\n",
    "http://scikit-learn.org/stable/modules/generated/sklearn.model_selection.cross_val_score.html\n",
    "</div>"
   ]
  },
  {
   "cell_type": "code",
   "execution_count": 59,
   "metadata": {},
   "outputs": [
    {
     "name": "stdout",
     "output_type": "stream",
     "text": [
      "RandomForestClassifier(bootstrap=True, class_weight=None, criterion='gini',\n",
      "            max_depth=None, max_features='auto', max_leaf_nodes=None,\n",
      "            min_impurity_decrease=0.0, min_impurity_split=None,\n",
      "            min_samples_leaf=1, min_samples_split=2,\n",
      "            min_weight_fraction_leaf=0.0, n_estimators=100, n_jobs=-1,\n",
      "            oob_score=False, random_state=None, verbose=0,\n",
      "            warm_start=False)\n",
      "[ 0.915   0.9375  0.9225  0.9225  0.95    0.91    0.9175  0.9325  0.9225\n",
      "  0.95  ]\n",
      "Precisión modelo : 0.928\n"
     ]
    }
   ],
   "source": [
    "from sklearn.ensemble import RandomForestClassifier\n",
    "from sklearn.model_selection import cross_val_score\n",
    "\n",
    "clf=RandomForestClassifier(n_estimators=100,verbose=0,n_jobs=-1)\n",
    "print(clf)\n",
    "\n",
    "# CV con 10 Folds\n",
    "puntuaciones=cross_val_score(clf,X_train_pca,y_train,cv=10)\n",
    "\n",
    "print(puntuaciones)\n",
    "print (\"Precisión modelo :\", np.mean(puntuaciones))\n",
    "\n"
   ]
  },
  {
   "cell_type": "markdown",
   "metadata": {},
   "source": [
    "### 1.1.2 Out-of-bag (1 punto)"
   ]
  },
  {
   "cell_type": "markdown",
   "metadata": {},
   "source": [
    "Una ventaja del *bagging* usado en el *Random Forest* es que cada uno de los árboles de decisión ha sido entrenado con una combinación diferente de los datos (muestreo con reemplazo), o sea que cada uno de los árboles no ha visto una determinada parte de los datos originales. Esto define una especie de conjunto de test para cada uno de los árboles, llamado *out-of-bag*, que puede ser usado para estimar el error del modelo sin necesidad de usar el conjunto de test real que creamos previamente, ni de usar estrategias de *cross-validation*."
   ]
  },
  {
   "cell_type": "markdown",
   "metadata": {},
   "source": [
    "<div style=\"background-color: #EDF7FF; border-color: #7C9DBF; border-left: 5px solid #7C9DBF; padding: 0.5em;\">\n",
    "<strong>Implementación:</strong> Usando los conjuntos *X_train_pca* e *y_train_pca*, entrenar un modelo Random Forest con 100 árboles de decisión. Mostrar la precisión de este modelo en el *out-of-bag* y en el conjunto *X_test_pca*.\n",
    "<hr>\n",
    "Sugerencia: usar el módulo *RandomForestClassifier* de sklearn. Para aprender más sobre *out-of-bag* y sobre como usar este módulo (incluyendo el atributo *oob&#95;score_*), os recomendamos los siguientes enlaces:<br>\n",
    "http://scikit-learn.org/stable/modules/generated/sklearn.ensemble.RandomForestClassifier.html<br>\n",
    "http://scikit-learn.org/stable/auto_examples/ensemble/plot_ensemble_oob.html\n",
    "</div>"
   ]
  },
  {
   "cell_type": "code",
   "execution_count": 60,
   "metadata": {
    "scrolled": true
   },
   "outputs": [
    {
     "data": {
      "text/plain": [
       "RandomForestClassifier(bootstrap=True, class_weight=None, criterion='gini',\n",
       "            max_depth=None, max_features='auto', max_leaf_nodes=None,\n",
       "            min_impurity_decrease=0.0, min_impurity_split=None,\n",
       "            min_samples_leaf=1, min_samples_split=2,\n",
       "            min_weight_fraction_leaf=0.0, n_estimators=100, n_jobs=-1,\n",
       "            oob_score=True, random_state=None, verbose=0, warm_start=False)"
      ]
     },
     "execution_count": 60,
     "metadata": {},
     "output_type": "execute_result"
    }
   ],
   "source": [
    "from sklearn.ensemble import RandomForestClassifier\n",
    "\n",
    "clf=RandomForestClassifier(n_estimators=100,oob_score=True,verbose=0,n_jobs=-1)\n",
    "\n",
    "clf.fit(X_train_pca,y_train)"
   ]
  },
  {
   "cell_type": "markdown",
   "metadata": {},
   "source": [
    "<div style=\"background-color: #EDF7FF; border-color: #7C9DBF; border-left: 5px solid #7C9DBF; padding: 0.5em;\">\n",
    "<strong>Análisis:</strong> La precisión obtenida en el *out-of-bag* y en el conjunto de test son comparables? Era de esperar? \n",
    "</div>"
   ]
  },
  {
   "cell_type": "code",
   "execution_count": 58,
   "metadata": {},
   "outputs": [
    {
     "name": "stdout",
     "output_type": "stream",
     "text": [
      "Precisión modelo out of bag : 0.90425\n",
      "Precisión conjunto test:  0.915\n"
     ]
    }
   ],
   "source": [
    "from sklearn.metrics import accuracy_score\n",
    "\n",
    "# predicción del modelo clf\n",
    "outlabels=clf.predict(X_test_pca)\n",
    "\n",
    "# precisión \n",
    "precision=accuracy_score(y_test,outlabels)\n",
    "\n",
    "print(\"Precisión modelo out of bag :\",clf.oob_score_)\n",
    "print(\"Precisión conjunto test: \",precision)\n"
   ]
  },
  {
   "cell_type": "markdown",
   "metadata": {},
   "source": [
    "Comparando las precisiónes del clasificador combinado son muy similares como era de esperar. El out of bag nos da el promedio de todos los errores parciales de cada arbol caso de RF, para los elementos no usados del conjunto de entrenamiento al construirlo. No sería necesario separar los datos de entrada en training y test para estimar el modelo con cierta precisión usando puntuación obb, aunque si se puede disponer de un conjunto de test siempre se afinará mejor la precisión del modelo."
   ]
  },
  {
   "cell_type": "markdown",
   "metadata": {},
   "source": [
    "### 1.1.3 Probabilidad por clase (1 punto)"
   ]
  },
  {
   "cell_type": "markdown",
   "metadata": {},
   "source": [
    "Otra ventaja del *bagging* usado en el *Random Forest* es que cada uno de los árboles de decisión, entrenado con una combinación diferente de los datos, puede obtener un resultado diferente. En los problemas de clasificación, el resultado de cada árbol se considera como un voto diferente, y la predicción final del modelo es la clase que haya obtenido más votos teniendo en cuenta todos los árboles.\n",
    "\n",
    "Estos votos individuales de los árboles también se pueden usar para estimar la probabilidad con la que el modelo prevé cada una de las clases, siendo la probabilidad para cada clase igual al número de votos obtenidos para aquella clase dividido entre el número de árboles."
   ]
  },
  {
   "cell_type": "markdown",
   "metadata": {},
   "source": [
    "<div style=\"background-color: #EDF7FF; border-color: #7C9DBF; border-left: 5px solid #7C9DBF; padding: 0.5em;\">\n",
    "<strong>Implementación:</strong> Para cada clase (etiqueta), muestra un ejemplo de imágen que el modelo haya clasificado incorrectamente junto con la etiqueta asignada por el modelo y la etiqueta original. Muestra también las probabilidades que el modelo ha atribuído a cada clase para estas imágenes.\n",
    "<hr> Sugerencia: usa el modelo que entrenaste en el ejercicio anterior con el módulo *RandomForestClassifier* de sklearn y las previsiones que calculaste para el conjunto de datos de test. Para mostrar las imágenes, usa el código proporcionado en la sección 0. Para aprender más sobre el módulo *RandomForestClassifier* de sklearn (incluyendo el método *predict_proba*), os recomendamos el siguiente enlace:<br>\n",
    "http://scikit-learn.org/stable/modules/generated/sklearn.ensemble.RandomForestClassifier.html\n",
    "</div>"
   ]
  },
  {
   "cell_type": "code",
   "execution_count": 40,
   "metadata": {},
   "outputs": [
    {
     "name": "stdout",
     "output_type": "stream",
     "text": [
      "Matriz de confusión\n",
      "[[192   2   1   2   3]\n",
      " [ 11 169   1  11   8]\n",
      " [  3   1 191   1   4]\n",
      " [  3   4   1 191   1]\n",
      " [  2   7   3   1 187]]\n",
      "\n",
      "Fallo=1, Original=E, Predecida=B, Probabilidad por etiquetas=[ 0.09  0.38  0.09  0.12  0.32]\n",
      "Fallo=2, Original=B, Predecida=A, Probabilidad por etiquetas=[ 0.51  0.11  0.09  0.14  0.15]\n",
      "Fallo=3, Original=D, Predecida=B, Probabilidad por etiquetas=[ 0.11  0.26  0.19  0.24  0.2 ]\n",
      "Fallo=4, Original=D, Predecida=E, Probabilidad por etiquetas=[ 0.16  0.23  0.12  0.18  0.31]\n",
      "Fallo=5, Original=B, Predecida=D, Probabilidad por etiquetas=[ 0.1   0.33  0.09  0.35  0.13]\n",
      "Fallo=6, Original=D, Predecida=A, Probabilidad por etiquetas=[ 0.27  0.17  0.18  0.26  0.12]\n",
      "Fallo=7, Original=A, Predecida=D, Probabilidad por etiquetas=[ 0.2   0.22  0.06  0.45  0.07]\n",
      "Fallo=8, Original=B, Predecida=A, Probabilidad por etiquetas=[ 0.37  0.21  0.18  0.12  0.12]\n",
      "Fallo=9, Original=B, Predecida=D, Probabilidad por etiquetas=[ 0.16  0.27  0.08  0.37  0.12]\n",
      "Fallo=10, Original=E, Predecida=B, Probabilidad por etiquetas=[ 0.1   0.39  0.05  0.1   0.36]\n",
      "Fallo=11, Original=B, Predecida=A, Probabilidad por etiquetas=[ 0.4   0.21  0.08  0.11  0.2 ]\n",
      "Fallo=12, Original=C, Predecida=A, Probabilidad por etiquetas=[ 0.41  0.09  0.2   0.13  0.17]\n",
      "Fallo=13, Original=C, Predecida=E, Probabilidad por etiquetas=[ 0.02  0.2   0.24  0.18  0.36]\n",
      "Fallo=14, Original=B, Predecida=E, Probabilidad por etiquetas=[ 0.08  0.25  0.12  0.14  0.41]\n",
      "Fallo=15, Original=B, Predecida=D, Probabilidad por etiquetas=[ 0.08  0.27  0.12  0.41  0.12]\n",
      "Fallo=16, Original=C, Predecida=D, Probabilidad por etiquetas=[ 0.04  0.1   0.28  0.53  0.05]\n",
      "Fallo=17, Original=E, Predecida=B, Probabilidad por etiquetas=[ 0.12  0.3   0.08  0.22  0.28]\n",
      "Fallo=18, Original=B, Predecida=A, Probabilidad por etiquetas=[ 0.33  0.26  0.11  0.09  0.21]\n",
      "Fallo=19, Original=B, Predecida=E, Probabilidad por etiquetas=[ 0.23  0.3   0.07  0.07  0.33]\n",
      "Fallo=20, Original=B, Predecida=D, Probabilidad por etiquetas=[ 0.06  0.19  0.18  0.44  0.13]\n",
      "Fallo=21, Original=B, Predecida=E, Probabilidad por etiquetas=[ 0.26  0.24  0.05  0.13  0.32]\n",
      "Fallo=22, Original=B, Predecida=D, Probabilidad por etiquetas=[ 0.17  0.25  0.11  0.39  0.08]\n",
      "Fallo=23, Original=D, Predecida=B, Probabilidad por etiquetas=[ 0.07  0.51  0.06  0.23  0.13]\n",
      "Fallo=24, Original=C, Predecida=E, Probabilidad por etiquetas=[ 0.08  0.2   0.25  0.06  0.41]\n",
      "Fallo=25, Original=B, Predecida=E, Probabilidad por etiquetas=[ 0.17  0.21  0.14  0.19  0.29]\n",
      "Fallo=26, Original=E, Predecida=C, Probabilidad por etiquetas=[ 0.13  0.07  0.46  0.06  0.28]\n",
      "Fallo=27, Original=B, Predecida=A, Probabilidad por etiquetas=[ 0.34  0.27  0.17  0.14  0.08]\n",
      "Fallo=28, Original=E, Predecida=A, Probabilidad por etiquetas=[ 0.28  0.25  0.02  0.23  0.22]\n",
      "Fallo=29, Original=B, Predecida=D, Probabilidad por etiquetas=[ 0.07  0.28  0.14  0.44  0.07]\n",
      "Fallo=30, Original=B, Predecida=A, Probabilidad por etiquetas=[ 0.57  0.15  0.06  0.11  0.11]\n",
      "Fallo=31, Original=A, Predecida=C, Probabilidad por etiquetas=[ 0.22  0.2   0.28  0.08  0.22]\n",
      "Fallo=32, Original=A, Predecida=E, Probabilidad por etiquetas=[ 0.26  0.05  0.11  0.05  0.53]\n",
      "Fallo=33, Original=D, Predecida=C, Probabilidad por etiquetas=[ 0.14  0.12  0.38  0.22  0.14]\n",
      "Fallo=34, Original=B, Predecida=A, Probabilidad por etiquetas=[ 0.27  0.16  0.17  0.15  0.25]\n",
      "Fallo=35, Original=E, Predecida=B, Probabilidad por etiquetas=[ 0.06  0.36  0.06  0.26  0.26]\n",
      "Fallo=36, Original=C, Predecida=A, Probabilidad por etiquetas=[ 0.35  0.12  0.17  0.17  0.19]\n",
      "Fallo=37, Original=A, Predecida=B, Probabilidad por etiquetas=[ 0.13  0.35  0.2   0.18  0.14]\n",
      "Fallo=38, Original=D, Predecida=A, Probabilidad por etiquetas=[ 0.26  0.18  0.17  0.16  0.23]\n",
      "Fallo=39, Original=B, Predecida=A, Probabilidad por etiquetas=[ 0.24  0.21  0.18  0.13  0.24]\n",
      "Fallo=40, Original=B, Predecida=A, Probabilidad por etiquetas=[ 0.24  0.21  0.22  0.14  0.19]\n",
      "Fallo=41, Original=C, Predecida=A, Probabilidad por etiquetas=[ 0.26  0.14  0.22  0.14  0.24]\n",
      "Fallo=42, Original=A, Predecida=B, Probabilidad por etiquetas=[ 0.29  0.36  0.02  0.17  0.16]\n",
      "Fallo=43, Original=D, Predecida=A, Probabilidad por etiquetas=[ 0.44  0.13  0.05  0.18  0.2 ]\n",
      "Fallo=44, Original=A, Predecida=E, Probabilidad por etiquetas=[ 0.2   0.22  0.11  0.12  0.35]\n",
      "Fallo=45, Original=B, Predecida=E, Probabilidad por etiquetas=[ 0.27  0.22  0.07  0.04  0.4 ]\n",
      "Fallo=46, Original=C, Predecida=B, Probabilidad por etiquetas=[ 0.07  0.29  0.29  0.21  0.14]\n",
      "Fallo=47, Original=A, Predecida=E, Probabilidad por etiquetas=[ 0.25  0.18  0.1   0.13  0.34]\n",
      "Fallo=48, Original=B, Predecida=E, Probabilidad por etiquetas=[ 0.2   0.24  0.16  0.12  0.28]\n",
      "Fallo=49, Original=B, Predecida=D, Probabilidad por etiquetas=[ 0.21  0.2   0.09  0.41  0.09]\n",
      "Fallo=50, Original=E, Predecida=C, Probabilidad por etiquetas=[ 0.14  0.12  0.34  0.1   0.3 ]\n",
      "Fallo=51, Original=B, Predecida=E, Probabilidad por etiquetas=[ 0.21  0.14  0.18  0.22  0.25]\n",
      "Fallo=52, Original=E, Predecida=D, Probabilidad por etiquetas=[ 0.1   0.16  0.19  0.33  0.22]\n",
      "Fallo=53, Original=B, Predecida=D, Probabilidad por etiquetas=[ 0.12  0.26  0.17  0.38  0.07]\n",
      "Fallo=54, Original=C, Predecida=E, Probabilidad por etiquetas=[ 0.16  0.13  0.23  0.19  0.29]\n",
      "Fallo=55, Original=E, Predecida=B, Probabilidad por etiquetas=[ 0.07  0.38  0.08  0.1   0.37]\n",
      "Fallo=56, Original=A, Predecida=D, Probabilidad por etiquetas=[ 0.3   0.18  0.07  0.35  0.1 ]\n",
      "Fallo=57, Original=C, Predecida=E, Probabilidad por etiquetas=[ 0.04  0.24  0.25  0.11  0.36]\n",
      "Fallo=58, Original=B, Predecida=A, Probabilidad por etiquetas=[ 0.31  0.23  0.06  0.11  0.29]\n",
      "Fallo=59, Original=B, Predecida=C, Probabilidad por etiquetas=[ 0.14  0.2   0.47  0.08  0.11]\n",
      "Fallo=60, Original=B, Predecida=A, Probabilidad por etiquetas=[ 0.47  0.23  0.09  0.14  0.07]\n",
      "Fallo=61, Original=B, Predecida=D, Probabilidad por etiquetas=[ 0.05  0.22  0.1   0.49  0.14]\n",
      "Fallo=62, Original=B, Predecida=D, Probabilidad por etiquetas=[ 0.21  0.23  0.09  0.38  0.09]\n",
      "Fallo=63, Original=E, Predecida=A, Probabilidad por etiquetas=[ 0.33  0.1   0.16  0.09  0.32]\n",
      "Fallo=64, Original=B, Predecida=D, Probabilidad por etiquetas=[ 0.19  0.22  0.12  0.27  0.2 ]\n",
      "Fallo=65, Original=E, Predecida=B, Probabilidad por etiquetas=[ 0.04  0.35  0.13  0.22  0.26]\n",
      "Fallo=66, Original=E, Predecida=C, Probabilidad por etiquetas=[ 0.08  0.08  0.38  0.12  0.34]\n",
      "Fallo=67, Original=D, Predecida=B, Probabilidad por etiquetas=[ 0.17  0.35  0.13  0.22  0.13]\n",
      "Fallo=68, Original=E, Predecida=B, Probabilidad por etiquetas=[ 0.11  0.31  0.1   0.18  0.3 ]\n",
      "Fallo=69, Original=D, Predecida=B, Probabilidad por etiquetas=[ 0.13  0.26  0.22  0.2   0.19]\n",
      "Fallo=70, Original=B, Predecida=E, Probabilidad por etiquetas=[ 0.2   0.25  0.06  0.21  0.28]\n"
     ]
    },
    {
     "data": {
      "image/png": "[encoded data removed]",
      "text/plain": [
       "<matplotlib.figure.Figure at 0x1a1b648be0>"
      ]
     },
     "metadata": {},
     "output_type": "display_data"
    }
   ],
   "source": [
    "from sklearn.metrics import confusion_matrix\n",
    "import matplotlib.pyplot as plt\n",
    "%matplotlib inline\n",
    "\n",
    "\n",
    "# Calcular las probabilidades atribuidas por clase\n",
    "probabilidades=clf.predict_proba(X_test_pca)\n",
    "\n",
    "\n",
    "# Matriz de confusión \n",
    "confusion= confusion_matrix(y_test,outlabels)\n",
    "print(\"Matriz de confusión\")\n",
    "print(confusion)\n",
    "print()\n",
    "\n",
    "# imagenes clasificadas incorrectamente con su etiqueta y probabilidades X clase (A,B,C,D,E)\n",
    "\n",
    "fig, ax = plt.subplots(1, 2, figsize=(2,2))\n",
    "\n",
    "j=1\n",
    "for i in range(len(y_test)):\n",
    "    if y_test[i] != outlabels[i] : \n",
    "        \n",
    "        print(\"Fallo=%s, Original=%s, Predecida=%s, Probabilidad por etiquetas=%s\" \n",
    "              % (j,labels_text[y_test[i]], labels_text[outlabels[i]], probabilidades[i]))\n",
    "        \n",
    "        # Imagen original\n",
    "        k = np.random.choice(idxs[y_test[i]])\n",
    "        ax[0].imshow(images[k].reshape(28, 28).transpose(), cmap=\"gray\")\n",
    "        ax[0].set_title(\"{}\".format(labels_text[y_test[i]]))\n",
    "        \n",
    "        # Imagen Predecida\n",
    "        k = np.random.choice(idxs[outlabels[i]])\n",
    "        ax[1].imshow(images[k].reshape(28, 28).transpose(), cmap=\"gray\")\n",
    "        ax[1].set_title(\"{}\".format(labels_text[y_test[i]]))\n",
    "        \n",
    "        j=j+1\n",
    "\n"
   ]
  },
  {
   "cell_type": "markdown",
   "metadata": {},
   "source": [
    "<div style=\"background-color: #EDF7FF; border-color: #7C9DBF; border-left: 5px solid #7C9DBF; padding: 0.5em;\">\n",
    "<strong>Análisis:</strong> En estos casos en los que el modelo se equivocó, estaba cerca de prever la etiqueta correcta?\n",
    "</div>"
   ]
  },
  {
   "cell_type": "markdown",
   "metadata": {
    "collapsed": true
   },
   "source": [
    "En los casos de fallo del modelo, si revisamos al azar por ejemplo el fallo 70 con las probabilidades establecidas (Original B con 0.25, predice E con .28) las diferencias son pequeñas. En otros casos, por ejemplo fallo 8 (Original B con 0.21, predice A con 0.37) en este caso la diferencia es de mas del 16% . No se ha visto un patrón claro de cercanía en los diferentes fallos del modelo , las probabilidades de acertar rondad entre (2-25)%"
   ]
  },
  {
   "cell_type": "markdown",
   "metadata": {},
   "source": [
    "### 1.1.4 Importancia de las variables (1 punto)"
   ]
  },
  {
   "cell_type": "markdown",
   "metadata": {},
   "source": [
    "Otra ventaja del algoritmo *Random Forest* es que permite medir la importancia relativa de cada variable, gracias a que cada uno de los árboles fué entrenado con un subconjunto diferente de las variables originales.\n",
    "\n",
    "En el problema de clasificación de imágenes analizado aquí, la importancia de las variables nos permite saber cuáles son generalmente los píxeles más importantes par poder clasificar la imágen. "
   ]
  },
  {
   "cell_type": "markdown",
   "metadata": {},
   "source": [
    "<div style=\"background-color: #EDF7FF; border-color: #7C9DBF; border-left: 5px solid #7C9DBF; padding: 0.5em;\">\n",
    "<strong>Implementación:</strong> Entrena un clasificador *Random Forest* con el conjunto de datos de entrenamiento original *X_train*, en los que cada variable es la intensidad de cada píxel (en vez de ser las variables PCA que usamos anteriormente). Muestra cuáles son las 10 variables más importantes. Haz un gráfico en el que se vea que zonas de una imágen son más importantes para el clasificador.\n",
    "\n",
    "<hr> Sugerencia: usa el módulo *RandomForestClassifier* de sklearn para calcular la importancia de las variables. Para representar gráficamente la importancia de cada píxel de la imagen, usa parte del código proporcionado en la sección 0. Para aprender más sobre el módulo *RandomForestClassifier* de sklearn (incluyendo el método *feature&#95;importances_*), os recomendamos el siguiente enlace:<br>\n",
    "http://scikit-learn.org/stable/modules/generated/sklearn.ensemble.RandomForestClassifier.html\n",
    "</div>"
   ]
  },
  {
   "cell_type": "code",
   "execution_count": 55,
   "metadata": {
    "scrolled": false
   },
   "outputs": [
    {
     "name": "stdout",
     "output_type": "stream",
     "text": [
      "1. Variable 406 (0.016941)\n",
      "2. Variable 603 (0.015027)\n",
      "3. Variable 461 (0.014873)\n",
      "4. Variable 434 (0.013172)\n",
      "5. Variable 358 (0.012515)\n",
      "6. Variable 330 (0.011514)\n",
      "7. Variable 576 (0.011450)\n",
      "8. Variable 378 (0.011118)\n",
      "9. Variable 462 (0.010915)\n",
      "10. Variable 359 (0.010888)\n",
      "\n",
      "Visualizamos las 10 variables de la imagen : E\n"
     ]
    },
    {
     "data": {
      "image/png": "[encoded data removed]",
      "text/plain": [
       "<matplotlib.figure.Figure at 0x1a1cecc630>"
      ]
     },
     "metadata": {},
     "output_type": "display_data"
    }
   ],
   "source": [
    "from sklearn.ensemble import RandomForestClassifier\n",
    "\n",
    "# Entrenar modelo\n",
    "\n",
    "clf=RandomForestClassifier(n_estimators=100,oob_score=True,verbose=0,n_jobs=-1)\n",
    "clf.fit(X_train,y_train)\n",
    "\n",
    "\n",
    "# 10 Variables más importantes visualizadas usando como ejemplo la imagen de X_train[0]\n",
    "\n",
    "importancias=clf.feature_importances_\n",
    "indices=np.argsort(importancias)[::-1]\n",
    "\n",
    "fig, ax = plt.subplots(1, 1, figsize=(3,3))\n",
    "\n",
    "for f in range(10):\n",
    "    print(\"%d. Variable %d (%f)\" % (f + 1, indices[f], importancias[indices[f]]))\n",
    "    ax.imshow(images[X_train[0,indices[f]]].reshape(28, 28).transpose(), cmap=\"gray\")\n",
    "\n",
    "print()    \n",
    "print(\"Visualizamos las 10 variables de la imagen :\", labels_text[y_train[0]])\n",
    "\n"
   ]
  },
  {
   "cell_type": "markdown",
   "metadata": {},
   "source": [
    "<div style=\"background-color: #EDF7FF; border-color: #7C9DBF; border-left: 5px solid #7C9DBF; padding: 0.5em;\">\n",
    "<strong>Análisis:</strong> Te parece plausible el resultado que has obtenido? Porqué?\n",
    "</div>"
   ]
  },
  {
   "cell_type": "markdown",
   "metadata": {},
   "source": [
    "Es dificil poder definir solo con las 10 variables la imagen con precisión como se ve en la visualización, para el clasificador las variables más importantes parece que marcan el contorno de la letra. \n",
    "Se podrían ir añadiendo más variables en el bucle para ir visualizando la imagen hasta determinar cuando se puede clasificar bien, y de esa forma determinar el numero de variables adecuado para entrenar el modelo (sería interesante en el caso de tener dataset con muchas imagenes se podría reducir capacidad de computo ajustando el numero de variables importantes con las que entrenar). "
   ]
  },
  {
   "cell_type": "markdown",
   "metadata": {},
   "source": [
    "### 1.1.5 Número de clasificadores (1 punto)"
   ]
  },
  {
   "cell_type": "markdown",
   "metadata": {},
   "source": [
    "En los ejercicios anteriores hemos combinado 100 clasificadores simples en nuestro clasificador combinado. Será que la precisión del clasificador combinado aumenta indefinidamente su desempeño si añadimos más clasificadores?\n",
    "\n",
    "Para responder a esta pregunta vamos a representar una curva de validación. La curva de validación es una representación gráfica del desempeño de un modelo variando uno de sus parámetros. Mientras que la búsqueda de rejilla nos permite encontrar la combinación de parámetros que da mejores resultados, la curva de validación nos permite entender cuál es el impacto de un determinado parámetro en el desempeño de un modelo."
   ]
  },
  {
   "cell_type": "markdown",
   "metadata": {},
   "source": [
    "<div style=\"background-color: #EDF7FF; border-color: #7C9DBF; border-left: 5px solid #7C9DBF; padding: 0.5em;\">\n",
    "<strong>Implementación:</strong> Entrena varios modelos de *Random Forest* con un número de árboles cada vez mayor. Para cada modelo, calcula su precisón en el conjunto de test o usando *cross-validation* en el conjunto de entrenamiento. Opcional: representa gráficamente la evolución de la precisión con el número de árboles para ayudarte en el análisis de los resultados.\n",
    "<hr>\n",
    "Sugerencia: usar el módulo *validation_curve* de sklearn. Para aprender a usar este módulo os recomendamos los siguientes enlaces:<br>\n",
    "http://scikit-learn.org/stable/modules/generated/sklearn.model_selection.validation_curve.html<br>\n",
    "http://scikit-learn.org/stable/modules/learning_curve.html#validation-curve\n",
    "</div>"
   ]
  },
  {
   "cell_type": "code",
   "execution_count": 7,
   "metadata": {},
   "outputs": [
    {
     "data": {
      "image/png": "[encoded data removed]",
      "text/plain": [
       "<matplotlib.figure.Figure at 0x115fcceb8>"
      ]
     },
     "metadata": {},
     "output_type": "display_data"
    }
   ],
   "source": [
    "from sklearn.ensemble import RandomForestClassifier\n",
    "from sklearn.model_selection import validation_curve\n",
    "\n",
    "# crear rango para los valores que tomarán los clasificadores\n",
    "param_range=np.arange(1,100,2)\n",
    "\n",
    "# Calcular precisión en training y test usando el rango de valores para los parámetros\n",
    "train_scores, test_scores = validation_curve(RandomForestClassifier(), \n",
    "                                             X_train_pca, \n",
    "                                             y_train, \n",
    "                                             param_name=\"n_estimators\", \n",
    "                                             param_range=param_range,\n",
    "                                             cv=5, \n",
    "                                             scoring=\"accuracy\", \n",
    "                                             n_jobs=-1)\n",
    "\n",
    "# Calcular media y desv. estandar para las puntuciones de training\n",
    "train_mean = np.mean(train_scores, axis=1)\n",
    "train_std = np.std(train_scores, axis=1)\n",
    "\n",
    "# Calcular media y desv. estandar para las puntuciones de test\n",
    "test_mean = np.mean(test_scores, axis=1)\n",
    "test_std = np.std(test_scores, axis=1)\n",
    "\n",
    "# Visualizar precisión media para conjuntos training y test \n",
    "plt.plot(param_range, train_mean, label=\"Puntución Training\", color=\"darkorange\")\n",
    "plt.plot(param_range, test_mean, label=\"Puntuación CV\", color=\"navy\")\n",
    "\n",
    "# Visualizar bandas de precisión para conjuntos training y test\n",
    "plt.fill_between(param_range, train_mean - train_std, train_mean + train_std, color=\"gray\")\n",
    "plt.fill_between(param_range, test_mean - test_std, test_mean + test_std, color=\"gainsboro\")\n",
    "\n",
    "# Crear gráfico\n",
    "plt.title(\"Curva de validación con Random Forest\")\n",
    "plt.xlabel(\"Numero de árboles\")\n",
    "plt.ylabel(\"Precisión\")\n",
    "plt.tight_layout()\n",
    "plt.legend(loc=\"best\")\n",
    "plt.show()"
   ]
  },
  {
   "cell_type": "markdown",
   "metadata": {},
   "source": [
    "<div style=\"background-color: #EDF7FF; border-color: #7C9DBF; border-left: 5px solid #7C9DBF; padding: 0.5em;\">\n",
    "<strong>Análisis:</strong> Incrementa indefinidamente la precisión con el número de árboles combinados? Si satura, lo hace a la precisión máxima o a otro valor? Porqué?\n",
    "</div>"
   ]
  },
  {
   "cell_type": "markdown",
   "metadata": {
    "collapsed": true
   },
   "source": [
    "No, como se puede ver en la gráfica de puntuación de CV, a partir de los 30 árboles aprox. el modelo satura con una precisión del 90%, es probable que los árboles más profundos hayan sobreentrenado a partir de ahí en el training set. \n",
    "Para una mayor precisión , es más importante la diversidad de los clasificadores base que su número, y para eso el training set tiene que ser suficientemente grande y diverso con alta grado de aleatoriedad en el proceso de muestreo. "
   ]
  },
  {
   "cell_type": "markdown",
   "metadata": {},
   "source": [
    "### 1.1.6 Volumen de datos (1 punto)"
   ]
  },
  {
   "cell_type": "markdown",
   "metadata": {},
   "source": [
    "Será que entrenando el modelo con más datos (más imágenes) el modelo aprendería a clasificar con mejor precisión? Es muy útil intentar responder a esta pregunta antes de lanzarse a conseguir más datos, ya que este puede ser un proceso difícil, caro, o que implique esperar mucho tiempo.\n",
    "\n",
    "Para responder a esta pregunta, analizaremos cómo evoluciona la precisión del modelo en los conjuntos de entrenamiento y test para diferentes volúmenes de datos de creciente tamaño. Representar los resultados en una curva de aprendizaje (*learning curve*) nos permitirá analizar visualmente estas cantidades."
   ]
  },
  {
   "cell_type": "markdown",
   "metadata": {},
   "source": [
    "<div style=\"background-color: #EDF7FF; border-color: #7C9DBF; border-left: 5px solid #7C9DBF; padding: 0.5em;\">\n",
    "<strong>Implementación:</strong> Entrena varios modelos de *Random Forest* con un volumen de datos cada vez mayor. Para cada modelo, calcula su precisón en el conjunto de entrenamiento y de test, y representa los resutados en un gráfico.\n",
    "<hr>\n",
    "Sugerencia: usar el módulo *learning_curve* de sklearn. Para aprender a usar este módulo os recomendamos los siguientes enlaces:<br>\n",
    "http://scikit-learn.org/stable/modules/learning_curve.html#learning-curve<br>\n",
    "http://scikit-learn.org/stable/modules/generated/sklearn.model_selection.learning_curve.html\n",
    "</div>"
   ]
  },
  {
   "cell_type": "code",
   "execution_count": 14,
   "metadata": {},
   "outputs": [
    {
     "data": {
      "image/png": "[encoded data removed]",
      "text/plain": [
       "<matplotlib.figure.Figure at 0x115d53be0>"
      ]
     },
     "metadata": {},
     "output_type": "display_data"
    }
   ],
   "source": [
    "from sklearn.learning_curve import learning_curve\n",
    "\n",
    "# Calcular precisión en training y test usando el rango de valores para los parámetros\n",
    "train_sizes, train_scores, test_scores = learning_curve(RandomForestClassifier(), \n",
    "                                                        X_train_pca, \n",
    "                                                        y_train,\n",
    "                                                        cv=5, \n",
    "                                                        n_jobs=-1, \n",
    "                                                        train_sizes=np.linspace(.1, 1., 10),\n",
    "                                                        verbose=0)\n",
    "\n",
    "train_scores_mean = np.mean(train_scores, axis=1)\n",
    "train_scores_std = np.std(train_scores, axis=1)\n",
    "test_scores_mean = np.mean(test_scores, axis=1)\n",
    "test_scores_std = np.std(test_scores, axis=1)\n",
    "\n",
    "\n",
    "\n",
    "plt.plot(train_sizes, train_scores_mean, 'o-', color=\"b\", label=\"Training score\")\n",
    "plt.plot(train_sizes, test_scores_mean, 'o-', color=\"r\", label=\"CV score\")\n",
    "\n",
    "\n",
    "plt.fill_between(train_sizes, train_scores_mean - train_scores_std, train_scores_mean + train_scores_std, \n",
    "                 alpha=0.1, color=\"b\")\n",
    "plt.fill_between(train_sizes, test_scores_mean - test_scores_std, test_scores_mean + test_scores_std, \n",
    "                 alpha=0.1, color=\"r\")\n",
    "\n",
    "\n",
    "plt.title(\"Curva Aprendizaje RandomForest\")\n",
    "plt.legend(loc=\"best\")\n",
    "plt.xlabel(\"Training examples\")\n",
    "plt.ylabel(\"Score\")\n",
    "plt.ylim((0.5, 1.02))\n",
    "plt.grid()\n",
    "plt.gca().invert_yaxis()\n",
    "plt.show()\n"
   ]
  },
  {
   "cell_type": "markdown",
   "metadata": {},
   "source": [
    "<div style=\"background-color: #EDF7FF; border-color: #7C9DBF; border-left: 5px solid #7C9DBF; padding: 0.5em;\">\n",
    "<strong>Análisis:</strong> Crees que si obtuviésemos más datos de entrenamiento (más imágines clasificadas) mejoraría el modelo? Porqué?\n",
    "</div>"
   ]
  },
  {
   "cell_type": "markdown",
   "metadata": {
    "collapsed": true
   },
   "source": [
    "Si, como se ve el training score, llegados al máximo de datos de entrenamiento, es mayor que el CV score y todavía no convergen, por lo tanto con mas imagenes clasificadas en el training set, el CV score del modelo podría incrementarse, seguramente los árboles alcanzarían mayor profundidad.\n",
    "\n",
    "ref. https://followthedata.files.wordpress.com/2012/06/screen-shot-2012-06-02-at-21-30-03.png"
   ]
  },
  {
   "cell_type": "markdown",
   "metadata": {},
   "source": [
    "## 1.2 Boosting (1 punto)"
   ]
  },
  {
   "cell_type": "markdown",
   "metadata": {},
   "source": [
    "En el sistema de *Boosting* se combinan vários clasificadores débiles sequencialmente, y en cada uno de ellos se da más peso a los datos que han sido erróneamente clasificados en las combinaciones anteriores, para que se concentre así en los casos más difíciles de resolver."
   ]
  },
  {
   "cell_type": "markdown",
   "metadata": {},
   "source": [
    "<div style=\"background-color: #EDF7FF; border-color: #7C9DBF; border-left: 5px solid #7C9DBF; padding: 0.5em;\">\n",
    "<strong>Implementación:</strong> Usando el conjunto *X_train_pca*, entrena un modelo Gradient Boosting y estima la precisión del modelo con una estrategia de *cross-validation* en los mismos conjuntos. Seguidamente calcula las previsiones del modelo en el conjunto *X_test_pca* y su precisión en este conjunto.\n",
    "\n",
    "<hr>\n",
    "Sugerencia: usar los módulos *GradientBoostingClassifier* y *cross_val_score* de sklearn. Para aprender a usar este módulo os recomendamos el siguientes enlace:<br>\n",
    "http://scikit-learn.org/stable/modules/generated/sklearn.ensemble.GradientBoostingClassifier.html\n",
    "</div>"
   ]
  },
  {
   "cell_type": "code",
   "execution_count": 4,
   "metadata": {},
   "outputs": [
    {
     "name": "stdout",
     "output_type": "stream",
     "text": [
      "GradientBoostingClassifier(criterion='friedman_mse', init=None,\n",
      "              learning_rate=0.1, loss='deviance', max_depth=3,\n",
      "              max_features=None, max_leaf_nodes=None,\n",
      "              min_impurity_decrease=0.0, min_impurity_split=None,\n",
      "              min_samples_leaf=1, min_samples_split=2,\n",
      "              min_weight_fraction_leaf=0.0, n_estimators=100,\n",
      "              presort='auto', random_state=None, subsample=1.0, verbose=0,\n",
      "              warm_start=False)\n",
      "\n",
      "Precisión con CV : 0.9155\n",
      "Precisión conjunto X_test_pca:  0.925\n"
     ]
    }
   ],
   "source": [
    "from sklearn.model_selection import cross_val_score\n",
    "from sklearn.metrics import accuracy_score\n",
    "from sklearn.ensemble import GradientBoostingClassifier\n",
    "\n",
    "clf=GradientBoostingClassifier(n_estimators=100,verbose=0)\n",
    "print(clf)\n",
    "print()\n",
    "\n",
    "\n",
    "# Precisión con CV \n",
    "\n",
    "puntuaciones=cross_val_score(clf,X_train_pca,y_train,cv=5)\n",
    "print (\"Precisión con CV :\", np.mean(puntuaciones))\n",
    "\n",
    "\n",
    "# Precisión con el conjunto de test\n",
    "\n",
    "clf.fit(X_train_pca,y_train)\n",
    "outlabels=clf.predict(X_test_pca)\n",
    "\n",
    "precision=accuracy_score(y_test,outlabels)\n",
    "print(\"Precisión conjunto X_test_pca: \",precision)\n"
   ]
  },
  {
   "cell_type": "code",
   "execution_count": 5,
   "metadata": {},
   "outputs": [
    {
     "name": "stdout",
     "output_type": "stream",
     "text": [
      "             precision    recall  f1-score   support\n",
      "\n",
      "          0       0.93      0.95      0.94       200\n",
      "          1       0.89      0.86      0.87       200\n",
      "          2       0.96      0.96      0.96       200\n",
      "          3       0.95      0.93      0.94       200\n",
      "          4       0.90      0.92      0.91       200\n",
      "\n",
      "avg / total       0.92      0.93      0.92      1000\n",
      "\n"
     ]
    }
   ],
   "source": [
    "from sklearn.metrics import classification_report\n",
    "print(classification_report(y_test, outlabels))"
   ]
  },
  {
   "cell_type": "markdown",
   "metadata": {},
   "source": [
    "<div style=\"background-color: #EDF7FF; border-color: #7C9DBF; border-left: 5px solid #7C9DBF; padding: 0.5em;\">\n",
    "<strong>Análisis:</strong> El boosting se basa en la combinación de clasificadores débiles. En la implementación que utilizaste en este ejercicio, cuál es la profundidad de los árboles utilizados? Compárala con la que utilizaste en los árboles de decisión del ejercicio de *bagging*.\n",
    "</div>"
   ]
  },
  {
   "cell_type": "markdown",
   "metadata": {
    "collapsed": true
   },
   "source": [
    "La profundidad de los árboles lo define el parámetro max_depth, en este caso se a ejecutado el clasificador con todos los parámetros por defecto (y max_depth=3), pero se podría utilizar por ejemplo GridsearchCV para optimizar diferentes parámetros (number of trees, tree depth y learning rate) que suelen ser relevantes en la precisión de este clasificador (ref. https://machinelearningmastery.com/configure-gradient-boosting-algorithm/)\n",
    "\n",
    "En el caso del clasificador RF utilizado en el ejercicio de bagging, max_depth=None por lo tanto los nodos se expanden hasta que todas las hojas sean puras o tengan menos de min_samples_split (que era =2). \n"
   ]
  },
  {
   "cell_type": "markdown",
   "metadata": {},
   "source": [
    "# 2. Combinación secuencial de clasificadores base diferentes"
   ]
  },
  {
   "cell_type": "markdown",
   "metadata": {},
   "source": [
    "## 2.1 Stacking (1 punto)"
   ]
  },
  {
   "cell_type": "markdown",
   "metadata": {},
   "source": [
    "Un clasificador de *stacking* usa como atributos las predicciones hechas por otros clasificadores en lugar de los datos originales de entrada."
   ]
  },
  {
   "cell_type": "markdown",
   "metadata": {},
   "source": [
    "Para construir nuestro clasificador de *stacking* vamos a usar las predicciones hechas en el conjunto de test por los clasificadores utilizados en los ejercicios anteriores de esta PEC, así como de otros clasificadores. Os proporcionamos las predicciones hechas sobre el mismo conjunto de test por clasificadores K-Nearest neighbors Classifier (knc), Support Vector Machines Classifier (svmc) y Neural Network Classifier (nnc) en archivos adjuntos. Estas predicciones se pueden cargar con el siguiente código: "
   ]
  },
  {
   "cell_type": "code",
   "execution_count": 6,
   "metadata": {
    "collapsed": true
   },
   "outputs": [],
   "source": [
    "# carga de predicciones calculadas con otros clasificadores:\n",
    "preds_knc = np.load(\"preds_knc.pickle\")\n",
    "preds_svmc = np.load(\"preds_svmc.pickle\")\n",
    "preds_nnc = np.load(\"preds_nnc.pickle\")"
   ]
  },
  {
   "cell_type": "markdown",
   "metadata": {},
   "source": [
    "<div style=\"background-color: #EDF7FF; border-color: #7C9DBF; border-left: 5px solid #7C9DBF; padding: 0.5em;\">\n",
    "<strong>Implementación:</strong> Construye un clasificador de *stacking* usando una *Random Forest* que use como atributos a las predicciones hechas en el conjunto de test por los algoritmos k-nn, SVM, red neuronal y  Gradient Boosting. Calcula la precisión del modelo resultante con *cross-validation* en el conjunto de test.\n",
    "\n",
    "<hr>\n",
    "Sugerencia: usar las funciones column_stack de numpy y OneHotEncoder de sklearn para preparar los datos. Para aprender a usar estas funciones  os recomendamos los siguientes enlaces:<br>\n",
    "https://docs.scipy.org/doc/numpy-1.14.0/reference/generated/numpy.column_stack.html<br>\n",
    "http://scikit-learn.org/stable/modules/generated/sklearn.preprocessing.OneHotEncoder.html<br>\n",
    "http://scikit-learn.org/stable/modules/preprocessing.html#encoding-categorical-features\n",
    "</div>"
   ]
  },
  {
   "cell_type": "code",
   "execution_count": 8,
   "metadata": {},
   "outputs": [
    {
     "name": "stdout",
     "output_type": "stream",
     "text": [
      "RandomForestClassifier(bootstrap=True, class_weight=None, criterion='gini',\n",
      "            max_depth=None, max_features='auto', max_leaf_nodes=None,\n",
      "            min_impurity_decrease=0.0, min_impurity_split=None,\n",
      "            min_samples_leaf=1, min_samples_split=2,\n",
      "            min_weight_fraction_leaf=0.0, n_estimators=100, n_jobs=-1,\n",
      "            oob_score=False, random_state=None, verbose=0,\n",
      "            warm_start=False)\n",
      "\n",
      "Precisión modelo stacking : 0.964\n"
     ]
    }
   ],
   "source": [
    "# Preparar datos \n",
    "\n",
    "from sklearn.preprocessing import OneHotEncoder\n",
    "\n",
    "preds_GB=outlabels\n",
    "matriz_preds=np.column_stack((preds_knc,preds_svmc,preds_nnc,preds_GB))\n",
    "enc=OneHotEncoder()\n",
    "stacking_array=enc.fit_transform(matriz_preds).toarray()\n",
    "\n",
    "\n",
    "\n",
    "# Clasificador stacking\n",
    "\n",
    "from sklearn.ensemble import RandomForestClassifier\n",
    "from sklearn.model_selection import cross_val_score\n",
    "\n",
    "clf=RandomForestClassifier(n_estimators=100,verbose=0,n_jobs=-1)\n",
    "print(clf)\n",
    "print()\n",
    "\n",
    "# CV con 10 Folds\n",
    "puntuaciones=cross_val_score(clf,stacking_array,y_test,cv=10)\n",
    "\n",
    "print (\"Precisión modelo stacking :\", np.mean(puntuaciones))\n",
    "\n",
    "\n"
   ]
  },
  {
   "cell_type": "markdown",
   "metadata": {},
   "source": [
    "<div style=\"background-color: #EDF7FF; border-color: #7C9DBF; border-left: 5px solid #7C9DBF; padding: 0.5em;\">\n",
    "<strong>Análisis:</strong> Has conseguido mejorar la precisión gracias al *stacking*? Comenta el resultado.\n",
    "</div>"
   ]
  },
  {
   "cell_type": "markdown",
   "metadata": {
    "collapsed": true
   },
   "source": [
    "Si, respecto al mismo modelo RF del apartado 1.1.1 (0.9275) se ha mejorado la precisión casi un 4%, usando las predicciones de los 4 clasificadores sobre conjunto de test, se ha creado un array con datos preparados (codificados) que se ha utilizado como datos de entrada del modelo de stacking, mejorando resultados sobre conjunto test con CV. "
   ]
  },
  {
   "cell_type": "markdown",
   "metadata": {},
   "source": [
    "## 2.2 Cascading"
   ]
  },
  {
   "cell_type": "markdown",
   "metadata": {},
   "source": [
    "### 2.2.1 Cascading simple"
   ]
  },
  {
   "cell_type": "markdown",
   "metadata": {},
   "source": [
    "El caso de *cascading* es parecido al de *stacking* pero utilizando no solamente las predicciones parciales de los clasificadores base, sino también los datos originales."
   ]
  },
  {
   "cell_type": "markdown",
   "metadata": {},
   "source": [
    "<div style=\"background-color: #EDF7FF; border-color: #7C9DBF; border-left: 5px solid #7C9DBF; padding: 0.5em;\">\n",
    "<strong>Implementación:</strong> Construye un clasificador de *cascading* usando una *Random Forest* que use como atributos a las predicciones hechas en el conjunto de test por los algoritmos k-nn, SVM, red neuronal y  Gradient Boosting, así como también las variables originales. Calcula la precisión del modelo resultante con *cross-validation* en el conjunto de test.\n",
    "\n",
    "<hr>\n",
    "Sugerencia: Usa el mismo conjunto de datos que en el ejercicio anterior pero añade el conjunto de test original *X_test_pca*."
   ]
  },
  {
   "cell_type": "code",
   "execution_count": 24,
   "metadata": {},
   "outputs": [
    {
     "name": "stdout",
     "output_type": "stream",
     "text": [
      "Dimensión del conjunto Cascading :  (1000, 120)\n",
      "\n",
      "RandomForestClassifier(bootstrap=True, class_weight=None, criterion='gini',\n",
      "            max_depth=None, max_features='auto', max_leaf_nodes=None,\n",
      "            min_impurity_decrease=0.0, min_impurity_split=None,\n",
      "            min_samples_leaf=1, min_samples_split=2,\n",
      "            min_weight_fraction_leaf=0.0, n_estimators=100, n_jobs=-1,\n",
      "            oob_score=False, random_state=None, verbose=0,\n",
      "            warm_start=False)\n",
      "\n",
      "Precisión modelo cascading : 0.968\n"
     ]
    }
   ],
   "source": [
    "# Preparar datos de entrada para modelo cascading\n",
    "cascading_input=np.hstack((stacking_array,X_test_pca))\n",
    "print(\"Dimensión del conjunto Cascading : \" , cascading_input.shape)\n",
    "print()\n",
    "\n",
    "# Clasificador Cascading\n",
    "\n",
    "from sklearn.ensemble import RandomForestClassifier\n",
    "from sklearn.model_selection import cross_val_score\n",
    "\n",
    "clf=RandomForestClassifier(n_estimators=100,verbose=0,n_jobs=-1)\n",
    "print(clf)\n",
    "print()\n",
    "\n",
    "# CV con 10 Folds\n",
    "puntuaciones=cross_val_score(clf,cascading_input,y_test,cv=10)\n",
    "\n",
    "print (\"Precisión modelo cascading :\", np.mean(puntuaciones))\n",
    "\n",
    "\n"
   ]
  },
  {
   "cell_type": "markdown",
   "metadata": {},
   "source": [
    "<div style=\"background-color: #EDF7FF; border-color: #7C9DBF; border-left: 5px solid #7C9DBF; padding: 0.5em;\">\n",
    "<strong>Análisis:</strong> Has conseguido mejorar la precisión gracias al *cascading*? Comenta el resultado.\n",
    "</div>"
   ]
  },
  {
   "cell_type": "markdown",
   "metadata": {
    "collapsed": true
   },
   "source": [
    "Se obtiene la misma precisión prácticamante ( 0.964 vs 0.968), en este caso el añadir los datos del conjunto test a las predicciones no hace que el modelo generalice mejor, comete practicamente los mismos errores sobre las predicciónes del conjunto test."
   ]
  },
  {
   "cell_type": "markdown",
   "metadata": {},
   "source": [
    "### 2.2.2 Cascading con variables adicionales (1 punto)"
   ]
  },
  {
   "cell_type": "markdown",
   "metadata": {},
   "source": [
    "En el *cascading* también podemos añadir como variables del modelo a datos adicionales que se hayan podido generar durante la toma de decisiones de los clasificadores que combinamos."
   ]
  },
  {
   "cell_type": "markdown",
   "metadata": {},
   "source": [
    "<div style=\"background-color: #EDF7FF; border-color: #7C9DBF; border-left: 5px solid #7C9DBF; padding: 0.5em;\">\n",
    "<strong>Implementación:</strong> Qué datos adicionales de los modelos anteriores podrías usar para enriquecer al modelo? Construye un clasificador de *cascading* usando una *Random Forest* que use como atributos a los usados en el ejercicio anterior más otros que puedas obtener de algunos de los clasificadores utilizados en los ejercicios anteriores. Calcula la precisión del modelo resultante con *cross-validation* en el conjunto de test."
   ]
  },
  {
   "cell_type": "code",
   "execution_count": 43,
   "metadata": {},
   "outputs": [
    {
     "name": "stdout",
     "output_type": "stream",
     "text": [
      "RandomForestClassifier(bootstrap=True, class_weight=None, criterion='gini',\n",
      "            max_depth=None, max_features='auto', max_leaf_nodes=None,\n",
      "            min_impurity_decrease=0.0, min_impurity_split=None,\n",
      "            min_samples_leaf=1, min_samples_split=2,\n",
      "            min_weight_fraction_leaf=0.0, n_estimators=100, n_jobs=-1,\n",
      "            oob_score=False, random_state=None, verbose=0,\n",
      "            warm_start=False)\n",
      "\n",
      "Precisión modelo cascading con variables: 0.97\n"
     ]
    }
   ],
   "source": [
    "# Cargar las probabilidades por cada clase de otros clasificadores recogidos (K-nn, SVM)\n",
    "\n",
    "probs_svmc=np.load(\"probs_svmc.pickle\")\n",
    "probs_knc=np.load(\"probs_knc.pickle\")\n",
    "\n",
    "# Añadir estas probabilidades de cada clase al conjunto cascading anterior + probabilidades 1.1.3\n",
    "\n",
    "cascading_var_input=np.hstack((stacking_array,X_test_pca,probs_svmc,probs_knc,probabilidades))\n",
    "\n",
    "\n",
    "# Clasificador Cascading con variables adicionales\n",
    "\n",
    "from sklearn.ensemble import RandomForestClassifier\n",
    "from sklearn.model_selection import cross_val_score\n",
    "\n",
    "clf=RandomForestClassifier(n_estimators=100,verbose=0,n_jobs=-1)\n",
    "print(clf)\n",
    "print()\n",
    "\n",
    "# CV con 10 Folds\n",
    "puntuaciones=cross_val_score(clf,cascading_var_input,y_test,cv=10)\n",
    "\n",
    "print (\"Precisión modelo cascading con variables:\", np.mean(puntuaciones))\n",
    "\n",
    "\n"
   ]
  },
  {
   "cell_type": "markdown",
   "metadata": {},
   "source": [
    "<div style=\"background-color: #EDF7FF; border-color: #7C9DBF; border-left: 5px solid #7C9DBF; padding: 0.5em;\">\n",
    "<strong>Análisis:</strong> Has conseguido mejorar la precisión gracias a añadir datos adicionales al *stacking*? Comenta el resultado.\n",
    "</div>"
   ]
  },
  {
   "cell_type": "markdown",
   "metadata": {},
   "source": [
    "Los resultados son similares añadiendo nuevas variables, apenas hemos logrado mayor precisión ejecutando varias veces el modelo y jugando con la combinación de los diferentes atributos externos. \n",
    "\n",
    "Se podría intentar entrenar el modelo Random Forest del 1. usando las variables con mayor importancia para ver si se obtiene mayor precisión , o en el mejor de los casos incrementar en training set con más imagenes clasificadas."
   ]
  }
 ],
 "metadata": {
  "celltoolbar": "Raw Cell Format",
  "kernelspec": {
   "display_name": "Python 3",
   "language": "python",
   "name": "python3"
  },
  "language_info": {
   "codemirror_mode": {
    "name": "ipython",
    "version": 3
   },
   "file_extension": ".py",
   "mimetype": "text/x-python",
   "name": "python",
   "nbconvert_exporter": "python",
   "pygments_lexer": "ipython3",
   "version": "3.6.7"
  },
  "toc": {
   "base_numbering": 1,
   "nav_menu": {},
   "number_sections": true,
   "sideBar": true,
   "skip_h1_title": false,
   "title_cell": "Table of Contents",
   "title_sidebar": "Contents",
   "toc_cell": false,
   "toc_position": {},
   "toc_section_display": "block",
   "toc_window_display": false
  }
 },
 "nbformat": 4,
 "nbformat_minor": 2
}
